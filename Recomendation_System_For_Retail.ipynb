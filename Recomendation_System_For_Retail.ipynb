{
  "cells": [
    {
      "cell_type": "code",
      "execution_count": 188,
      "metadata": {
        "colab": {
          "base_uri": "https://localhost:8080/",
          "height": 424
        },
        "id": "pHqW0G3x7Ov_",
        "outputId": "e34e3ea1-97d6-47ce-f9fe-7b11f21ed83f"
      },
      "outputs": [
        {
          "data": {
            "text/html": [
              "<div>\n",
              "<style scoped>\n",
              "    .dataframe tbody tr th:only-of-type {\n",
              "        vertical-align: middle;\n",
              "    }\n",
              "\n",
              "    .dataframe tbody tr th {\n",
              "        vertical-align: top;\n",
              "    }\n",
              "\n",
              "    .dataframe thead th {\n",
              "        text-align: right;\n",
              "    }\n",
              "</style>\n",
              "<table border=\"1\" class=\"dataframe\">\n",
              "  <thead>\n",
              "    <tr style=\"text-align: right;\">\n",
              "      <th></th>\n",
              "      <th>productid</th>\n",
              "      <th>product_name</th>\n",
              "      <th>product_category_tree</th>\n",
              "      <th>brand</th>\n",
              "      <th>retail_price</th>\n",
              "      <th>discounted_price</th>\n",
              "    </tr>\n",
              "  </thead>\n",
              "  <tbody>\n",
              "    <tr>\n",
              "      <th>0</th>\n",
              "      <td>1</td>\n",
              "      <td>Alisha Solid Women's Cycling Shorts</td>\n",
              "      <td>[\"Clothing &gt;&gt; Women's Clothing &gt;&gt; Lingerie, Sl...</td>\n",
              "      <td>Alisha</td>\n",
              "      <td>999.0</td>\n",
              "      <td>379.0</td>\n",
              "    </tr>\n",
              "    <tr>\n",
              "      <th>1</th>\n",
              "      <td>2</td>\n",
              "      <td>FabHomeDecor Fabric Double Sofa Bed</td>\n",
              "      <td>[\"Furniture &gt;&gt; Living Room Furniture &gt;&gt; Sofa B...</td>\n",
              "      <td>FabHomeDecor</td>\n",
              "      <td>32157.0</td>\n",
              "      <td>22646.0</td>\n",
              "    </tr>\n",
              "    <tr>\n",
              "      <th>2</th>\n",
              "      <td>3</td>\n",
              "      <td>AW Bellies</td>\n",
              "      <td>[\"Footwear &gt;&gt; Women's Footwear &gt;&gt; Ballerinas &gt;...</td>\n",
              "      <td>AW</td>\n",
              "      <td>999.0</td>\n",
              "      <td>499.0</td>\n",
              "    </tr>\n",
              "    <tr>\n",
              "      <th>3</th>\n",
              "      <td>4</td>\n",
              "      <td>Alisha Solid Women's Cycling Shorts</td>\n",
              "      <td>[\"Clothing &gt;&gt; Women's Clothing &gt;&gt; Lingerie, Sl...</td>\n",
              "      <td>Alisha</td>\n",
              "      <td>699.0</td>\n",
              "      <td>267.0</td>\n",
              "    </tr>\n",
              "    <tr>\n",
              "      <th>4</th>\n",
              "      <td>5</td>\n",
              "      <td>Sicons All Purpose Arnica Dog Shampoo</td>\n",
              "      <td>[\"Pet Supplies &gt;&gt; Grooming &gt;&gt; Skin &amp; Coat Care...</td>\n",
              "      <td>Sicons</td>\n",
              "      <td>220.0</td>\n",
              "      <td>210.0</td>\n",
              "    </tr>\n",
              "    <tr>\n",
              "      <th>...</th>\n",
              "      <td>...</td>\n",
              "      <td>...</td>\n",
              "      <td>...</td>\n",
              "      <td>...</td>\n",
              "      <td>...</td>\n",
              "      <td>...</td>\n",
              "    </tr>\n",
              "    <tr>\n",
              "      <th>19996</th>\n",
              "      <td>103673</td>\n",
              "      <td>Wallmantra Large Vinyl Stickers Sticker</td>\n",
              "      <td>[\"Baby Care &gt;&gt; Baby &amp; Kids Gifts &gt;&gt; Stickers &gt;...</td>\n",
              "      <td>Wallmantra</td>\n",
              "      <td>1429.0</td>\n",
              "      <td>1143.0</td>\n",
              "    </tr>\n",
              "    <tr>\n",
              "      <th>19997</th>\n",
              "      <td>103676</td>\n",
              "      <td>Elite Collection Medium Acrylic Sticker</td>\n",
              "      <td>[\"Baby Care &gt;&gt; Baby &amp; Kids Gifts &gt;&gt; Stickers &gt;...</td>\n",
              "      <td>Elite Collection</td>\n",
              "      <td>1299.0</td>\n",
              "      <td>999.0</td>\n",
              "    </tr>\n",
              "    <tr>\n",
              "      <th>19998</th>\n",
              "      <td>103681</td>\n",
              "      <td>Elite Collection Medium Acrylic Sticker</td>\n",
              "      <td>[\"Baby Care &gt;&gt; Baby &amp; Kids Gifts &gt;&gt; Stickers &gt;...</td>\n",
              "      <td>Elite Collection</td>\n",
              "      <td>1499.0</td>\n",
              "      <td>1199.0</td>\n",
              "    </tr>\n",
              "    <tr>\n",
              "      <th>19999</th>\n",
              "      <td>103683</td>\n",
              "      <td>Elite Collection Medium Acrylic Sticker</td>\n",
              "      <td>[\"Baby Care &gt;&gt; Baby &amp; Kids Gifts &gt;&gt; Stickers &gt;...</td>\n",
              "      <td>Elite Collection</td>\n",
              "      <td>1499.0</td>\n",
              "      <td>999.0</td>\n",
              "    </tr>\n",
              "    <tr>\n",
              "      <th>20000</th>\n",
              "      <td>103685</td>\n",
              "      <td>NaN</td>\n",
              "      <td>NaN</td>\n",
              "      <td>NaN</td>\n",
              "      <td>NaN</td>\n",
              "      <td>NaN</td>\n",
              "    </tr>\n",
              "  </tbody>\n",
              "</table>\n",
              "<p>20001 rows × 6 columns</p>\n",
              "</div>"
            ],
            "text/plain": [
              "       productid                             product_name  \\\n",
              "0              1      Alisha Solid Women's Cycling Shorts   \n",
              "1              2      FabHomeDecor Fabric Double Sofa Bed   \n",
              "2              3                               AW Bellies   \n",
              "3              4      Alisha Solid Women's Cycling Shorts   \n",
              "4              5    Sicons All Purpose Arnica Dog Shampoo   \n",
              "...          ...                                      ...   \n",
              "19996     103673  Wallmantra Large Vinyl Stickers Sticker   \n",
              "19997     103676  Elite Collection Medium Acrylic Sticker   \n",
              "19998     103681  Elite Collection Medium Acrylic Sticker   \n",
              "19999     103683  Elite Collection Medium Acrylic Sticker   \n",
              "20000     103685                                      NaN   \n",
              "\n",
              "                                   product_category_tree             brand  \\\n",
              "0      [\"Clothing >> Women's Clothing >> Lingerie, Sl...            Alisha   \n",
              "1      [\"Furniture >> Living Room Furniture >> Sofa B...      FabHomeDecor   \n",
              "2      [\"Footwear >> Women's Footwear >> Ballerinas >...                AW   \n",
              "3      [\"Clothing >> Women's Clothing >> Lingerie, Sl...            Alisha   \n",
              "4      [\"Pet Supplies >> Grooming >> Skin & Coat Care...            Sicons   \n",
              "...                                                  ...               ...   \n",
              "19996  [\"Baby Care >> Baby & Kids Gifts >> Stickers >...        Wallmantra   \n",
              "19997  [\"Baby Care >> Baby & Kids Gifts >> Stickers >...  Elite Collection   \n",
              "19998  [\"Baby Care >> Baby & Kids Gifts >> Stickers >...  Elite Collection   \n",
              "19999  [\"Baby Care >> Baby & Kids Gifts >> Stickers >...  Elite Collection   \n",
              "20000                                                NaN               NaN   \n",
              "\n",
              "       retail_price  discounted_price  \n",
              "0             999.0             379.0  \n",
              "1           32157.0           22646.0  \n",
              "2             999.0             499.0  \n",
              "3             699.0             267.0  \n",
              "4             220.0             210.0  \n",
              "...             ...               ...  \n",
              "19996        1429.0            1143.0  \n",
              "19997        1299.0             999.0  \n",
              "19998        1499.0            1199.0  \n",
              "19999        1499.0             999.0  \n",
              "20000           NaN               NaN  \n",
              "\n",
              "[20001 rows x 6 columns]"
            ]
          },
          "execution_count": 188,
          "metadata": {},
          "output_type": "execute_result"
        }
      ],
      "source": [
        "import pandas as pd\n",
        "product = pd.read_excel(r'C:\\Users\\Ameyo\\OneDrive\\Desktop\\Code_Clause_Recommendation_System_for_Retail_Stores-master\\Datasets\\ProductDatasets.csv.xlsx')\n",
        "\n",
        "product"
      ]
    },
    {
      "cell_type": "code",
      "execution_count": 189,
      "metadata": {
        "colab": {
          "base_uri": "https://localhost:8080/",
          "height": 641
        },
        "id": "8tCUE3s89b43",
        "outputId": "ae2ddca8-8e90-442b-afe5-244cf14b7569"
      },
      "outputs": [
        {
          "data": {
            "text/html": [
              "<div>\n",
              "<style scoped>\n",
              "    .dataframe tbody tr th:only-of-type {\n",
              "        vertical-align: middle;\n",
              "    }\n",
              "\n",
              "    .dataframe tbody tr th {\n",
              "        vertical-align: top;\n",
              "    }\n",
              "\n",
              "    .dataframe thead th {\n",
              "        text-align: right;\n",
              "    }\n",
              "</style>\n",
              "<table border=\"1\" class=\"dataframe\">\n",
              "  <thead>\n",
              "    <tr style=\"text-align: right;\">\n",
              "      <th></th>\n",
              "      <th>productid</th>\n",
              "      <th>product_name</th>\n",
              "      <th>product_category_tree</th>\n",
              "      <th>brand</th>\n",
              "      <th>retail_price</th>\n",
              "      <th>discounted_price</th>\n",
              "      <th>clean_product_name</th>\n",
              "    </tr>\n",
              "  </thead>\n",
              "  <tbody>\n",
              "    <tr>\n",
              "      <th>0</th>\n",
              "      <td>1</td>\n",
              "      <td>Alisha Solid Women's Cycling Shorts</td>\n",
              "      <td>[\"Clothing &gt;&gt; Women's Clothing &gt;&gt; Lingerie, Sl...</td>\n",
              "      <td>Alisha</td>\n",
              "      <td>999.0</td>\n",
              "      <td>379.0</td>\n",
              "      <td>Alisha Solid Womens Cycling Shorts</td>\n",
              "    </tr>\n",
              "    <tr>\n",
              "      <th>1</th>\n",
              "      <td>2</td>\n",
              "      <td>FabHomeDecor Fabric Double Sofa Bed</td>\n",
              "      <td>[\"Furniture &gt;&gt; Living Room Furniture &gt;&gt; Sofa B...</td>\n",
              "      <td>FabHomeDecor</td>\n",
              "      <td>32157.0</td>\n",
              "      <td>22646.0</td>\n",
              "      <td>FabHomeDecor Fabric Double Sofa Bed</td>\n",
              "    </tr>\n",
              "    <tr>\n",
              "      <th>2</th>\n",
              "      <td>3</td>\n",
              "      <td>AW Bellies</td>\n",
              "      <td>[\"Footwear &gt;&gt; Women's Footwear &gt;&gt; Ballerinas &gt;...</td>\n",
              "      <td>AW</td>\n",
              "      <td>999.0</td>\n",
              "      <td>499.0</td>\n",
              "      <td>AW Bellies</td>\n",
              "    </tr>\n",
              "    <tr>\n",
              "      <th>3</th>\n",
              "      <td>4</td>\n",
              "      <td>Alisha Solid Women's Cycling Shorts</td>\n",
              "      <td>[\"Clothing &gt;&gt; Women's Clothing &gt;&gt; Lingerie, Sl...</td>\n",
              "      <td>Alisha</td>\n",
              "      <td>699.0</td>\n",
              "      <td>267.0</td>\n",
              "      <td>Alisha Solid Womens Cycling Shorts</td>\n",
              "    </tr>\n",
              "    <tr>\n",
              "      <th>4</th>\n",
              "      <td>5</td>\n",
              "      <td>Sicons All Purpose Arnica Dog Shampoo</td>\n",
              "      <td>[\"Pet Supplies &gt;&gt; Grooming &gt;&gt; Skin &amp; Coat Care...</td>\n",
              "      <td>Sicons</td>\n",
              "      <td>220.0</td>\n",
              "      <td>210.0</td>\n",
              "      <td>Sicons All Purpose Arnica Dog Shampoo</td>\n",
              "    </tr>\n",
              "    <tr>\n",
              "      <th>...</th>\n",
              "      <td>...</td>\n",
              "      <td>...</td>\n",
              "      <td>...</td>\n",
              "      <td>...</td>\n",
              "      <td>...</td>\n",
              "      <td>...</td>\n",
              "      <td>...</td>\n",
              "    </tr>\n",
              "    <tr>\n",
              "      <th>19995</th>\n",
              "      <td>103671</td>\n",
              "      <td>WallDesign Small Vinyl Sticker</td>\n",
              "      <td>[\"Baby Care &gt;&gt; Baby &amp; Kids Gifts &gt;&gt; Stickers &gt;...</td>\n",
              "      <td>WallDesign</td>\n",
              "      <td>1500.0</td>\n",
              "      <td>730.0</td>\n",
              "      <td>WallDesign Small Vinyl Sticker</td>\n",
              "    </tr>\n",
              "    <tr>\n",
              "      <th>19996</th>\n",
              "      <td>103673</td>\n",
              "      <td>Wallmantra Large Vinyl Stickers Sticker</td>\n",
              "      <td>[\"Baby Care &gt;&gt; Baby &amp; Kids Gifts &gt;&gt; Stickers &gt;...</td>\n",
              "      <td>Wallmantra</td>\n",
              "      <td>1429.0</td>\n",
              "      <td>1143.0</td>\n",
              "      <td>Wallmantra Large Vinyl Stickers Sticker</td>\n",
              "    </tr>\n",
              "    <tr>\n",
              "      <th>19997</th>\n",
              "      <td>103676</td>\n",
              "      <td>Elite Collection Medium Acrylic Sticker</td>\n",
              "      <td>[\"Baby Care &gt;&gt; Baby &amp; Kids Gifts &gt;&gt; Stickers &gt;...</td>\n",
              "      <td>Elite Collection</td>\n",
              "      <td>1299.0</td>\n",
              "      <td>999.0</td>\n",
              "      <td>Elite Collection Medium Acrylic Sticker</td>\n",
              "    </tr>\n",
              "    <tr>\n",
              "      <th>19998</th>\n",
              "      <td>103681</td>\n",
              "      <td>Elite Collection Medium Acrylic Sticker</td>\n",
              "      <td>[\"Baby Care &gt;&gt; Baby &amp; Kids Gifts &gt;&gt; Stickers &gt;...</td>\n",
              "      <td>Elite Collection</td>\n",
              "      <td>1499.0</td>\n",
              "      <td>1199.0</td>\n",
              "      <td>Elite Collection Medium Acrylic Sticker</td>\n",
              "    </tr>\n",
              "    <tr>\n",
              "      <th>19999</th>\n",
              "      <td>103683</td>\n",
              "      <td>Elite Collection Medium Acrylic Sticker</td>\n",
              "      <td>[\"Baby Care &gt;&gt; Baby &amp; Kids Gifts &gt;&gt; Stickers &gt;...</td>\n",
              "      <td>Elite Collection</td>\n",
              "      <td>1499.0</td>\n",
              "      <td>999.0</td>\n",
              "      <td>Elite Collection Medium Acrylic Sticker</td>\n",
              "    </tr>\n",
              "  </tbody>\n",
              "</table>\n",
              "<p>14071 rows × 7 columns</p>\n",
              "</div>"
            ],
            "text/plain": [
              "       productid                             product_name  \\\n",
              "0              1      Alisha Solid Women's Cycling Shorts   \n",
              "1              2      FabHomeDecor Fabric Double Sofa Bed   \n",
              "2              3                               AW Bellies   \n",
              "3              4      Alisha Solid Women's Cycling Shorts   \n",
              "4              5    Sicons All Purpose Arnica Dog Shampoo   \n",
              "...          ...                                      ...   \n",
              "19995     103671           WallDesign Small Vinyl Sticker   \n",
              "19996     103673  Wallmantra Large Vinyl Stickers Sticker   \n",
              "19997     103676  Elite Collection Medium Acrylic Sticker   \n",
              "19998     103681  Elite Collection Medium Acrylic Sticker   \n",
              "19999     103683  Elite Collection Medium Acrylic Sticker   \n",
              "\n",
              "                                   product_category_tree             brand  \\\n",
              "0      [\"Clothing >> Women's Clothing >> Lingerie, Sl...            Alisha   \n",
              "1      [\"Furniture >> Living Room Furniture >> Sofa B...      FabHomeDecor   \n",
              "2      [\"Footwear >> Women's Footwear >> Ballerinas >...                AW   \n",
              "3      [\"Clothing >> Women's Clothing >> Lingerie, Sl...            Alisha   \n",
              "4      [\"Pet Supplies >> Grooming >> Skin & Coat Care...            Sicons   \n",
              "...                                                  ...               ...   \n",
              "19995  [\"Baby Care >> Baby & Kids Gifts >> Stickers >...        WallDesign   \n",
              "19996  [\"Baby Care >> Baby & Kids Gifts >> Stickers >...        Wallmantra   \n",
              "19997  [\"Baby Care >> Baby & Kids Gifts >> Stickers >...  Elite Collection   \n",
              "19998  [\"Baby Care >> Baby & Kids Gifts >> Stickers >...  Elite Collection   \n",
              "19999  [\"Baby Care >> Baby & Kids Gifts >> Stickers >...  Elite Collection   \n",
              "\n",
              "       retail_price  discounted_price                       clean_product_name  \n",
              "0             999.0             379.0       Alisha Solid Womens Cycling Shorts  \n",
              "1           32157.0           22646.0      FabHomeDecor Fabric Double Sofa Bed  \n",
              "2             999.0             499.0                               AW Bellies  \n",
              "3             699.0             267.0       Alisha Solid Womens Cycling Shorts  \n",
              "4             220.0             210.0    Sicons All Purpose Arnica Dog Shampoo  \n",
              "...             ...               ...                                      ...  \n",
              "19995        1500.0             730.0           WallDesign Small Vinyl Sticker  \n",
              "19996        1429.0            1143.0  Wallmantra Large Vinyl Stickers Sticker  \n",
              "19997        1299.0             999.0  Elite Collection Medium Acrylic Sticker  \n",
              "19998        1499.0            1199.0  Elite Collection Medium Acrylic Sticker  \n",
              "19999        1499.0             999.0  Elite Collection Medium Acrylic Sticker  \n",
              "\n",
              "[14071 rows x 7 columns]"
            ]
          },
          "execution_count": 189,
          "metadata": {},
          "output_type": "execute_result"
        }
      ],
      "source": [
        "import re\n",
        "\n",
        "def clean_product_name(product_name):\n",
        "  return re.sub(\"[^a-zA-Z0-9 ]\",\"\",str(product_name))\n",
        "\n",
        "product[\"clean_product_name\"] = product[\"product_name\"].apply(clean_product_name)\n",
        "product = product.dropna()\n",
        "product"
      ]
    },
    {
      "cell_type": "code",
      "execution_count": 190,
      "metadata": {
        "id": "ZVnSV8Gm-4jV"
      },
      "outputs": [],
      "source": [
        "from sklearn.feature_extraction.text import TfidfVectorizer\n",
        "vectorizer = TfidfVectorizer(ngram_range=(1,2))\n",
        "\n",
        "tfidf = vectorizer.fit_transform(product[\"clean_product_name\"])"
      ]
    },
    {
      "cell_type": "code",
      "execution_count": 191,
      "metadata": {
        "id": "TuPWHWhG_C6q"
      },
      "outputs": [],
      "source": [
        "from sklearn.metrics.pairwise import cosine_similarity\n",
        "import numpy as np\n",
        "\n",
        "def search(title):\n",
        "    title = clean_product_name(title)\n",
        "    query_vec = vectorizer.transform([title])\n",
        "    similarity = cosine_similarity(query_vec, tfidf).flatten()\n",
        "    indices = np.argpartition(similarity, -5)[-5:]\n",
        "    results = product.iloc[indices].iloc[::-1]\n",
        "    \n",
        "    return results"
      ]
    },
    {
      "cell_type": "code",
      "execution_count": 192,
      "metadata": {
        "colab": {
          "base_uri": "https://localhost:8080/",
          "height": 325,
          "referenced_widgets": [
            "5872c9d2cc06472ab3fd8af16fa9bcf5",
            "6a916b28092d4083b14e9a6e747dba2e",
            "999db81c6a3c45ab947fbeb893294081",
            "a0242eb181cd40ce97026ee0036bcfd0",
            "b76601770b284536b15cef0488de36a4"
          ]
        },
        "id": "P-FEZGK8_SGT",
        "outputId": "8e83f601-202b-4aec-add1-0113d21e4218"
      },
      "outputs": [
        {
          "data": {
            "application/vnd.jupyter.widget-view+json": {
              "model_id": "32a5d25fc7584da39f0ae51307054181",
              "version_major": 2,
              "version_minor": 0
            },
            "text/plain": [
              "Text(value='Type Here', description='What product you Want me Recommed:')"
            ]
          },
          "metadata": {},
          "output_type": "display_data"
        },
        {
          "data": {
            "application/vnd.jupyter.widget-view+json": {
              "model_id": "0141791b7e3b4fd388140b27e3d716bf",
              "version_major": 2,
              "version_minor": 0
            },
            "text/plain": [
              "Output()"
            ]
          },
          "metadata": {},
          "output_type": "display_data"
        }
      ],
      "source": [
        "import ipywidgets as widgets\n",
        "from IPython.display import display\n",
        "\n",
        "product_input = widgets.Text(\n",
        "    value='Type Here',\n",
        "    description='What product you Want me Recommed:',\n",
        "    disabled=False\n",
        ")\n",
        "product_list = widgets.Output()\n",
        "\n",
        "def on_type(data):\n",
        "    with product_list:\n",
        "        product_list.clear_output()\n",
        "        title = data[\"new\"]\n",
        "        if len(title) > 5:\n",
        "            display(search(title))\n",
        "\n",
        "product_input.observe(on_type, names='value')\n",
        "\n",
        "\n",
        "display(product_input, product_list)"
      ]
    },
    {
      "cell_type": "code",
      "execution_count": 193,
      "metadata": {
        "id": "nL-GuE6nAQVk"
      },
      "outputs": [],
      "source": [
        "product_id = 89745\n",
        "\n",
        "products = product[product[\"productid\"] == product_id]"
      ]
    },
    {
      "cell_type": "code",
      "execution_count": 256,
      "metadata": {
        "colab": {
          "base_uri": "https://localhost:8080/",
          "height": 424
        },
        "id": "Farb51_RBDPU",
        "outputId": "ec74d29a-ebcb-456f-fe46-af9412e61618"
      },
      "outputs": [
        {
          "data": {
            "text/html": [
              "<div>\n",
              "<style scoped>\n",
              "    .dataframe tbody tr th:only-of-type {\n",
              "        vertical-align: middle;\n",
              "    }\n",
              "\n",
              "    .dataframe tbody tr th {\n",
              "        vertical-align: top;\n",
              "    }\n",
              "\n",
              "    .dataframe thead th {\n",
              "        text-align: right;\n",
              "    }\n",
              "</style>\n",
              "<table border=\"1\" class=\"dataframe\">\n",
              "  <thead>\n",
              "    <tr style=\"text-align: right;\">\n",
              "      <th></th>\n",
              "      <th>productid</th>\n",
              "      <th>product_name</th>\n",
              "      <th>product_category_tree</th>\n",
              "      <th>brand</th>\n",
              "      <th>retail_price</th>\n",
              "      <th>discounted_price</th>\n",
              "    </tr>\n",
              "  </thead>\n",
              "  <tbody>\n",
              "    <tr>\n",
              "      <th>0</th>\n",
              "      <td>1</td>\n",
              "      <td>Alisha Solid Women's Cycling Shorts</td>\n",
              "      <td>[\"Clothing &gt;&gt; Women's Clothing &gt;&gt; Lingerie, Sl...</td>\n",
              "      <td>Alisha</td>\n",
              "      <td>999.0</td>\n",
              "      <td>379.0</td>\n",
              "    </tr>\n",
              "    <tr>\n",
              "      <th>1</th>\n",
              "      <td>2</td>\n",
              "      <td>FabHomeDecor Fabric Double Sofa Bed</td>\n",
              "      <td>[\"Furniture &gt;&gt; Living Room Furniture &gt;&gt; Sofa B...</td>\n",
              "      <td>FabHomeDecor</td>\n",
              "      <td>32157.0</td>\n",
              "      <td>22646.0</td>\n",
              "    </tr>\n",
              "    <tr>\n",
              "      <th>2</th>\n",
              "      <td>3</td>\n",
              "      <td>AW Bellies</td>\n",
              "      <td>[\"Footwear &gt;&gt; Women's Footwear &gt;&gt; Ballerinas &gt;...</td>\n",
              "      <td>AW</td>\n",
              "      <td>999.0</td>\n",
              "      <td>499.0</td>\n",
              "    </tr>\n",
              "    <tr>\n",
              "      <th>3</th>\n",
              "      <td>4</td>\n",
              "      <td>Alisha Solid Women's Cycling Shorts</td>\n",
              "      <td>[\"Clothing &gt;&gt; Women's Clothing &gt;&gt; Lingerie, Sl...</td>\n",
              "      <td>Alisha</td>\n",
              "      <td>699.0</td>\n",
              "      <td>267.0</td>\n",
              "    </tr>\n",
              "    <tr>\n",
              "      <th>4</th>\n",
              "      <td>5</td>\n",
              "      <td>Sicons All Purpose Arnica Dog Shampoo</td>\n",
              "      <td>[\"Pet Supplies &gt;&gt; Grooming &gt;&gt; Skin &amp; Coat Care...</td>\n",
              "      <td>Sicons</td>\n",
              "      <td>220.0</td>\n",
              "      <td>210.0</td>\n",
              "    </tr>\n",
              "    <tr>\n",
              "      <th>...</th>\n",
              "      <td>...</td>\n",
              "      <td>...</td>\n",
              "      <td>...</td>\n",
              "      <td>...</td>\n",
              "      <td>...</td>\n",
              "      <td>...</td>\n",
              "    </tr>\n",
              "    <tr>\n",
              "      <th>19996</th>\n",
              "      <td>103673</td>\n",
              "      <td>Wallmantra Large Vinyl Stickers Sticker</td>\n",
              "      <td>[\"Baby Care &gt;&gt; Baby &amp; Kids Gifts &gt;&gt; Stickers &gt;...</td>\n",
              "      <td>Wallmantra</td>\n",
              "      <td>1429.0</td>\n",
              "      <td>1143.0</td>\n",
              "    </tr>\n",
              "    <tr>\n",
              "      <th>19997</th>\n",
              "      <td>103676</td>\n",
              "      <td>Elite Collection Medium Acrylic Sticker</td>\n",
              "      <td>[\"Baby Care &gt;&gt; Baby &amp; Kids Gifts &gt;&gt; Stickers &gt;...</td>\n",
              "      <td>Elite Collection</td>\n",
              "      <td>1299.0</td>\n",
              "      <td>999.0</td>\n",
              "    </tr>\n",
              "    <tr>\n",
              "      <th>19998</th>\n",
              "      <td>103681</td>\n",
              "      <td>Elite Collection Medium Acrylic Sticker</td>\n",
              "      <td>[\"Baby Care &gt;&gt; Baby &amp; Kids Gifts &gt;&gt; Stickers &gt;...</td>\n",
              "      <td>Elite Collection</td>\n",
              "      <td>1499.0</td>\n",
              "      <td>1199.0</td>\n",
              "    </tr>\n",
              "    <tr>\n",
              "      <th>19999</th>\n",
              "      <td>103683</td>\n",
              "      <td>Elite Collection Medium Acrylic Sticker</td>\n",
              "      <td>[\"Baby Care &gt;&gt; Baby &amp; Kids Gifts &gt;&gt; Stickers &gt;...</td>\n",
              "      <td>Elite Collection</td>\n",
              "      <td>1499.0</td>\n",
              "      <td>999.0</td>\n",
              "    </tr>\n",
              "    <tr>\n",
              "      <th>20000</th>\n",
              "      <td>103685</td>\n",
              "      <td>NaN</td>\n",
              "      <td>NaN</td>\n",
              "      <td>NaN</td>\n",
              "      <td>NaN</td>\n",
              "      <td>NaN</td>\n",
              "    </tr>\n",
              "  </tbody>\n",
              "</table>\n",
              "<p>20001 rows × 6 columns</p>\n",
              "</div>"
            ],
            "text/plain": [
              "       productid                             product_name  \\\n",
              "0              1      Alisha Solid Women's Cycling Shorts   \n",
              "1              2      FabHomeDecor Fabric Double Sofa Bed   \n",
              "2              3                               AW Bellies   \n",
              "3              4      Alisha Solid Women's Cycling Shorts   \n",
              "4              5    Sicons All Purpose Arnica Dog Shampoo   \n",
              "...          ...                                      ...   \n",
              "19996     103673  Wallmantra Large Vinyl Stickers Sticker   \n",
              "19997     103676  Elite Collection Medium Acrylic Sticker   \n",
              "19998     103681  Elite Collection Medium Acrylic Sticker   \n",
              "19999     103683  Elite Collection Medium Acrylic Sticker   \n",
              "20000     103685                                      NaN   \n",
              "\n",
              "                                   product_category_tree             brand  \\\n",
              "0      [\"Clothing >> Women's Clothing >> Lingerie, Sl...            Alisha   \n",
              "1      [\"Furniture >> Living Room Furniture >> Sofa B...      FabHomeDecor   \n",
              "2      [\"Footwear >> Women's Footwear >> Ballerinas >...                AW   \n",
              "3      [\"Clothing >> Women's Clothing >> Lingerie, Sl...            Alisha   \n",
              "4      [\"Pet Supplies >> Grooming >> Skin & Coat Care...            Sicons   \n",
              "...                                                  ...               ...   \n",
              "19996  [\"Baby Care >> Baby & Kids Gifts >> Stickers >...        Wallmantra   \n",
              "19997  [\"Baby Care >> Baby & Kids Gifts >> Stickers >...  Elite Collection   \n",
              "19998  [\"Baby Care >> Baby & Kids Gifts >> Stickers >...  Elite Collection   \n",
              "19999  [\"Baby Care >> Baby & Kids Gifts >> Stickers >...  Elite Collection   \n",
              "20000                                                NaN               NaN   \n",
              "\n",
              "       retail_price  discounted_price  \n",
              "0             999.0             379.0  \n",
              "1           32157.0           22646.0  \n",
              "2             999.0             499.0  \n",
              "3             699.0             267.0  \n",
              "4             220.0             210.0  \n",
              "...             ...               ...  \n",
              "19996        1429.0            1143.0  \n",
              "19997        1299.0             999.0  \n",
              "19998        1499.0            1199.0  \n",
              "19999        1499.0             999.0  \n",
              "20000           NaN               NaN  \n",
              "\n",
              "[20001 rows x 6 columns]"
            ]
          },
          "execution_count": 256,
          "metadata": {},
          "output_type": "execute_result"
        }
      ],
      "source": [
        "\n",
        "rating = pd.read_excel(r'C:\\Users\\Ameyo\\OneDrive\\Desktop\\Code_Clause_Recommendation_System_for_Retail_Stores-master\\Datasets\\ProductDatasets.csv.xlsx')\n",
        "rating"
      ]
    },
    {
      "cell_type": "code",
      "execution_count": 257,
      "metadata": {
        "colab": {
          "base_uri": "https://localhost:8080/"
        },
        "id": "P58atEEzBeRr",
        "outputId": "78db9b92-f56f-4621-c9ce-f6ec0196afc3"
      },
      "outputs": [
        {
          "data": {
            "text/plain": [
              "productid                  int64\n",
              "product_name              object\n",
              "product_category_tree     object\n",
              "brand                     object\n",
              "retail_price             float64\n",
              "discounted_price         float64\n",
              "dtype: object"
            ]
          },
          "execution_count": 257,
          "metadata": {},
          "output_type": "execute_result"
        }
      ],
      "source": [
        "rating.dtypes"
      ]
    },
    {
      "cell_type": "code",
      "execution_count": 258,
      "metadata": {
        "id": "bSN_zM9-BkPC"
      },
      "outputs": [],
      "source": [
        "import pandas as pd\n",
        "def get_similar_users(product_id):\n",
        "    similar_users_recs = rating[(rating[\"productid\"] == product_id) & (rating['rating'] > 4)][\"userId\"].unique()\n",
        "    return similar_users_recs\n",
        "\n"
      ]
    },
    {
      "cell_type": "code",
      "execution_count": 259,
      "metadata": {
        "id": "cQCKBOvUBrxt"
      },
      "outputs": [],
      "source": [
        "import pandas as pd\n",
        "\n",
        "# Assuming you have a DataFrame named 'rating' and 'similar_users_recs' is a list or Series of user IDs\n",
        "def get_similar_user_recommendations(similar_users_recs):\n",
        "    # Filter the 'rating' DataFrame based on conditions\n",
        "    similar_user_recs = rating[(rating[\"userId\"].isin(similar_users_recs)) & (rating[\"rating\"] > 4)]\n",
        "\n",
        "    # Check if the resulting DataFrame is empty\n",
        "    is_empty = similar_user_recs.empty\n",
        "\n",
        "    return is_empty\n",
        "\n"
      ]
    },
    {
      "cell_type": "code",
      "execution_count": 265,
      "metadata": {
        "id": "gQWWomvtBuMq"
      },
      "outputs": [],
      "source": [
        "def similar_user_recs():\n",
        "\n",
        "    similar_user_recs = rating[\n",
        "        rating[\"userId\"].isin(similar_user_recs)\n",
        "    ] & (rating[\"rating\"] > 4)[\"productid\"]\n",
        "\n",
        "    \n"
      ]
    },
    {
      "cell_type": "code",
      "execution_count": 266,
      "metadata": {
        "id": "iOjFS42JByiy"
      },
      "outputs": [],
      "source": [
        "def all_users():\n",
        " all_users = rating[ rating[\"productid\"].isin(similar_user_recs)] & (rating[\"rating\"] > 4)"
      ]
    },
    {
      "cell_type": "code",
      "execution_count": 267,
      "metadata": {
        "id": "GzbBJPl6B06u"
      },
      "outputs": [],
      "source": [
        "def all_users():\n",
        "    all_users = rating[rating[\"productid\"].isin(similar_user_recs)] & (rating[\"rating\"] > 4)\n",
        "\n",
        "    return all_users"
      ]
    },
    {
      "cell_type": "code",
      "execution_count": 269,
      "metadata": {
        "id": "Lt8woalsB4uO"
      },
      "outputs": [],
      "source": [
        "def rec_percentages():\n",
        " rec_percentages = pd.concat([similar_user_recs, all_users ], axis=1)\n",
        "rec_percentages.columns = [\"similar\", \"all\"]"
      ]
    },
    {
      "cell_type": "code",
      "execution_count": 286,
      "metadata": {
        "colab": {
          "base_uri": "https://localhost:8080/",
          "height": 424
        },
        "id": "YJSZgcTVB64T",
        "outputId": "0bd3898a-76d2-4d11-9ffe-3418bcbd90e1"
      },
      "outputs": [
        {
          "data": {
            "text/plain": [
              "<function __main__.rec_percentages()>"
            ]
          },
          "execution_count": 286,
          "metadata": {},
          "output_type": "execute_result"
        }
      ],
      "source": [
        "# Assuming you have DataFrames named similar_user_recs and all_user\n",
        "rec_percentages\n",
        "\n"
      ]
    },
    {
      "cell_type": "code",
      "execution_count": 287,
      "metadata": {
        "id": "Jf3HVGY1B-v5"
      },
      "outputs": [
        {
          "ename": "TypeError",
          "evalue": "'function' object is not subscriptable",
          "output_type": "error",
          "traceback": [
            "\u001b[1;31m---------------------------------------------------------------------------\u001b[0m",
            "\u001b[1;31mTypeError\u001b[0m                                 Traceback (most recent call last)",
            "Cell \u001b[1;32mIn[287], line 1\u001b[0m\n\u001b[1;32m----> 1\u001b[0m rec_percentages[\u001b[39m\"\u001b[39m\u001b[39mscore\u001b[39m\u001b[39m\"\u001b[39m] \u001b[39m=\u001b[39m rec_percentages[\u001b[39m\"\u001b[39;49m\u001b[39msimilar\u001b[39;49m\u001b[39m\"\u001b[39;49m] \u001b[39m/\u001b[39m rec_percentages[\u001b[39m\"\u001b[39m\u001b[39mall\u001b[39m\u001b[39m\"\u001b[39m]\n",
            "\u001b[1;31mTypeError\u001b[0m: 'function' object is not subscriptable"
          ]
        }
      ],
      "source": [
        "rec_percentages[\"score\"] = rec_percentages[\"similar\"] / rec_percentages[\"all\"]"
      ]
    },
    {
      "cell_type": "code",
      "execution_count": 238,
      "metadata": {
        "id": "5fCyIAVUCBDq"
      },
      "outputs": [
        {
          "ename": "NameError",
          "evalue": "name 'rec_percentages' is not defined",
          "output_type": "error",
          "traceback": [
            "\u001b[1;31m---------------------------------------------------------------------------\u001b[0m",
            "\u001b[1;31mNameError\u001b[0m                                 Traceback (most recent call last)",
            "Cell \u001b[1;32mIn[238], line 1\u001b[0m\n\u001b[1;32m----> 1\u001b[0m rec_percentages \u001b[39m=\u001b[39m rec_percentages\u001b[39m.\u001b[39msort_values(\u001b[39m\"\u001b[39m\u001b[39mscore\u001b[39m\u001b[39m\"\u001b[39m, ascending\u001b[39m=\u001b[39m\u001b[39mFalse\u001b[39;00m)\n",
            "\u001b[1;31mNameError\u001b[0m: name 'rec_percentages' is not defined"
          ]
        }
      ],
      "source": [
        "rec_percentages = rec_percentages.sort_values(\"score\", ascending=False)"
      ]
    },
    {
      "cell_type": "code",
      "execution_count": 237,
      "metadata": {
        "colab": {
          "base_uri": "https://localhost:8080/",
          "height": 191
        },
        "id": "oEku93WbCDoy",
        "outputId": "e70b4fcd-0051-4788-abc4-be8c8b735a93"
      },
      "outputs": [
        {
          "ename": "NameError",
          "evalue": "name 'rec_percentages' is not defined",
          "output_type": "error",
          "traceback": [
            "\u001b[1;31m---------------------------------------------------------------------------\u001b[0m",
            "\u001b[1;31mNameError\u001b[0m                                 Traceback (most recent call last)",
            "Cell \u001b[1;32mIn[237], line 1\u001b[0m\n\u001b[1;32m----> 1\u001b[0m rec_percentages\u001b[39m.\u001b[39mhead(\u001b[39m10\u001b[39m)\u001b[39m.\u001b[39mmerge(product, left_index\u001b[39m=\u001b[39m\u001b[39mTrue\u001b[39;00m, right_on\u001b[39m=\u001b[39m\u001b[39m\"\u001b[39m\u001b[39mproductid\u001b[39m\u001b[39m\"\u001b[39m)\n",
            "\u001b[1;31mNameError\u001b[0m: name 'rec_percentages' is not defined"
          ]
        }
      ],
      "source": [
        "rec_percentages.head(10).merge(product, left_index=True, right_on=\"productid\")"
      ]
    },
    {
      "cell_type": "code",
      "execution_count": 203,
      "metadata": {
        "id": "7lxm9VWcCE7x"
      },
      "outputs": [],
      "source": [
        "def find_similar_product(product_id):\n",
        "    similar_users = rating[(rating[\"productid\"] == product_id) & (rating[\"rating\"] > 4)][\"userId\"].unique()\n",
        "    similar_user_recs = rating[(rating[\"userId\"].isin(similar_users)) & (rating[\"rating\"] > 4)][\"productid\"]\n",
        "    similar_user_recs = similar_user_recs.value_counts() / len(similar_users)\n",
        "\n",
        "    similar_user_recs = similar_user_recs[similar_user_recs > .10]\n",
        "    all_users = rating[(rating[\"productid\"].isin(similar_user_recs.index)) & (rating[\"rating\"] > 4)]\n",
        "    all_user_recs = all_users[\"productid\"].value_counts() / len(all_users[\"userId\"].unique())\n",
        "    rec_percentages = pd.concat([similar_user_recs, all_user_recs], axis=1)\n",
        "    rec_percentages.columns = [\"similar\", \"all\"]\n",
        "    \n",
        "    rec_percentages[\"score\"] = rec_percentages[\"similar\"] / rec_percentages[\"all\"]\n",
        "    rec_percentages = rec_percentages.sort_values(\"score\", ascending=False)\n",
        "    return rec_percentages.head(10).merge(product, left_index=True, right_on=\"productid\")[[\"score\", \"product_name\", \"brand\", \"retail_price\", \"discounted_price\"]]"
      ]
    },
    {
      "cell_type": "code",
      "execution_count": 202,
      "metadata": {
        "colab": {
          "base_uri": "https://localhost:8080/",
          "height": 270,
          "referenced_widgets": [
            "44642f40cc134de69fa5ac5972252ff6",
            "386b84131d6c446aafaee3753e158507",
            "5a75109c506b43c2861e7f68b1d1b24c",
            "2dcada26e5414472a94998cc6058c302",
            "b0b03a437bbe43889806dcf0e1e4b791"
          ]
        },
        "id": "4upQkNWICKGY",
        "outputId": "5be5d405-536f-45b8-c950-4b60b509f035"
      },
      "outputs": [
        {
          "data": {
            "application/vnd.jupyter.widget-view+json": {
              "model_id": "f7d9f588a10f4a8b9ba23314797c5789",
              "version_major": 2,
              "version_minor": 0
            },
            "text/plain": [
              "Text(value='Type Here', description='Product Name:')"
            ]
          },
          "metadata": {},
          "output_type": "display_data"
        },
        {
          "data": {
            "application/vnd.jupyter.widget-view+json": {
              "model_id": "cecbc574bbc0454a869a0b8b01c46a20",
              "version_major": 2,
              "version_minor": 0
            },
            "text/plain": [
              "Output()"
            ]
          },
          "metadata": {},
          "output_type": "display_data"
        }
      ],
      "source": [
        "import ipywidgets as widgets\n",
        "from IPython.display import display\n",
        "\n",
        "product_name_input = widgets.Text(\n",
        "    value='Type Here',\n",
        "    description='Product Name:',\n",
        "    disabled=False\n",
        ")\n",
        "recommendation_list = widgets.Output()\n",
        "\n",
        "def on_type(data):\n",
        "    with recommendation_list:\n",
        "        recommendation_list.clear_output()\n",
        "        title = data[\"new\"]\n",
        "        if len(title) > 5:\n",
        "            results = search(title)\n",
        "            product_id = results.iloc[0][\"productid\"]\n",
        "            display(find_similar_product(product_id))\n",
        "\n",
        "product_name_input.observe(on_type, names='value')\n",
        "\n",
        "display(product_name_input, recommendation_list)"
      ]
    }
  ],
  "metadata": {
    "colab": {
      "provenance": []
    },
    "kernelspec": {
      "display_name": "Python 3",
      "name": "python3"
    },
    "language_info": {
      "codemirror_mode": {
        "name": "ipython",
        "version": 3
      },
      "file_extension": ".py",
      "mimetype": "text/x-python",
      "name": "python",
      "nbconvert_exporter": "python",
      "pygments_lexer": "ipython3",
      "version": "3.10.11"
    },
    "widgets": {
      "application/vnd.jupyter.widget-state+json": {
        "2dcada26e5414472a94998cc6058c302": {
          "model_module": "@jupyter-widgets/output",
          "model_module_version": "1.0.0",
          "model_name": "OutputModel",
          "state": {
            "_dom_classes": [],
            "_model_module": "@jupyter-widgets/output",
            "_model_module_version": "1.0.0",
            "_model_name": "OutputModel",
            "_view_count": null,
            "_view_module": "@jupyter-widgets/output",
            "_view_module_version": "1.0.0",
            "_view_name": "OutputView",
            "layout": "IPY_MODEL_b0b03a437bbe43889806dcf0e1e4b791",
            "msg_id": "",
            "outputs": [
              {
                "data": {
                  "text/html": "\n  <div id=\"df-daaf9910-bf64-4194-9246-4ab3ed6963e8\">\n    <div class=\"colab-df-container\">\n      <div>\n<style scoped>\n    .dataframe tbody tr th:only-of-type {\n        vertical-align: middle;\n    }\n\n    .dataframe tbody tr th {\n        vertical-align: top;\n    }\n\n    .dataframe thead th {\n        text-align: right;\n    }\n</style>\n<table border=\"1\" class=\"dataframe\">\n  <thead>\n    <tr style=\"text-align: right;\">\n      <th></th>\n      <th>score</th>\n      <th>product_name</th>\n      <th>brand</th>\n      <th>retail_price</th>\n      <th>discounted_price</th>\n    </tr>\n  </thead>\n  <tbody>\n    <tr>\n      <th>1307</th>\n      <td>447.333333</td>\n      <td>Giorgio Armani SMOOTH SILK LIP PENCIL 12</td>\n      <td>Giorgio Armani</td>\n      <td>1800.0</td>\n      <td>1710.0</td>\n    </tr>\n    <tr>\n      <th>1582</th>\n      <td>178.933333</td>\n      <td>Galz4ever Alloy Bracelet</td>\n      <td>Galz4ever</td>\n      <td>199.0</td>\n      <td>149.0</td>\n    </tr>\n    <tr>\n      <th>1555</th>\n      <td>178.933333</td>\n      <td>Vidhya Kangan Brass Jewel Set</td>\n      <td>Vidhya Kangan</td>\n      <td>1600.0</td>\n      <td>800.0</td>\n    </tr>\n    <tr>\n      <th>2247</th>\n      <td>178.933333</td>\n      <td>Tia by Ten on Ten Cathy Women's T-Shirt Bra</td>\n      <td>White</td>\n      <td>999.0</td>\n      <td>399.0</td>\n    </tr>\n    <tr>\n      <th>2045</th>\n      <td>149.111111</td>\n      <td>S4S Printed Women's Full Coverage Bra</td>\n      <td>Black</td>\n      <td>899.0</td>\n      <td>266.0</td>\n    </tr>\n    <tr>\n      <th>1293</th>\n      <td>149.111111</td>\n      <td>DEBOCK DEBOCK Earphone For HTC Desire 320 Ster...</td>\n      <td>DEBOCK</td>\n      <td>899.0</td>\n      <td>320.0</td>\n    </tr>\n  </tbody>\n</table>\n</div>\n      <button class=\"colab-df-convert\" onclick=\"convertToInteractive('df-daaf9910-bf64-4194-9246-4ab3ed6963e8')\"\n              title=\"Convert this dataframe to an interactive table.\"\n              style=\"display:none;\">\n        \n  <svg xmlns=\"http://www.w3.org/2000/svg\" height=\"24px\"viewBox=\"0 0 24 24\"\n       width=\"24px\">\n    <path d=\"M0 0h24v24H0V0z\" fill=\"none\"/>\n    <path d=\"M18.56 5.44l.94 2.06.94-2.06 2.06-.94-2.06-.94-.94-2.06-.94 2.06-2.06.94zm-11 1L8.5 8.5l.94-2.06 2.06-.94-2.06-.94L8.5 2.5l-.94 2.06-2.06.94zm10 10l.94 2.06.94-2.06 2.06-.94-2.06-.94-.94-2.06-.94 2.06-2.06.94z\"/><path d=\"M17.41 7.96l-1.37-1.37c-.4-.4-.92-.59-1.43-.59-.52 0-1.04.2-1.43.59L10.3 9.45l-7.72 7.72c-.78.78-.78 2.05 0 2.83L4 21.41c.39.39.9.59 1.41.59.51 0 1.02-.2 1.41-.59l7.78-7.78 2.81-2.81c.8-.78.8-2.07 0-2.86zM5.41 20L4 18.59l7.72-7.72 1.47 1.35L5.41 20z\"/>\n  </svg>\n      </button>\n      \n  <style>\n    .colab-df-container {\n      display:flex;\n      flex-wrap:wrap;\n      gap: 12px;\n    }\n\n    .colab-df-convert {\n      background-color: #E8F0FE;\n      border: none;\n      border-radius: 50%;\n      cursor: pointer;\n      display: none;\n      fill: #1967D2;\n      height: 32px;\n      padding: 0 0 0 0;\n      width: 32px;\n    }\n\n    .colab-df-convert:hover {\n      background-color: #E2EBFA;\n      box-shadow: 0px 1px 2px rgba(60, 64, 67, 0.3), 0px 1px 3px 1px rgba(60, 64, 67, 0.15);\n      fill: #174EA6;\n    }\n\n    [theme=dark] .colab-df-convert {\n      background-color: #3B4455;\n      fill: #D2E3FC;\n    }\n\n    [theme=dark] .colab-df-convert:hover {\n      background-color: #434B5C;\n      box-shadow: 0px 1px 3px 1px rgba(0, 0, 0, 0.15);\n      filter: drop-shadow(0px 1px 2px rgba(0, 0, 0, 0.3));\n      fill: #FFFFFF;\n    }\n  </style>\n\n      <script>\n        const buttonEl =\n          document.querySelector('#df-daaf9910-bf64-4194-9246-4ab3ed6963e8 button.colab-df-convert');\n        buttonEl.style.display =\n          google.colab.kernel.accessAllowed ? 'block' : 'none';\n\n        async function convertToInteractive(key) {\n          const element = document.querySelector('#df-daaf9910-bf64-4194-9246-4ab3ed6963e8');\n          const dataTable =\n            await google.colab.kernel.invokeFunction('convertToInteractive',\n                                                     [key], {});\n          if (!dataTable) return;\n\n          const docLinkHtml = 'Like what you see? Visit the ' +\n            '<a target=\"_blank\" href=https://colab.research.google.com/notebooks/data_table.ipynb>data table notebook</a>'\n            + ' to learn more about interactive tables.';\n          element.innerHTML = '';\n          dataTable['output_type'] = 'display_data';\n          await google.colab.output.renderOutput(dataTable, element);\n          const docLink = document.createElement('div');\n          docLink.innerHTML = docLinkHtml;\n          element.appendChild(docLink);\n        }\n      </script>\n    </div>\n  </div>\n  ",
                  "text/plain": "           score                                       product_name  \\\n1307  447.333333           Giorgio Armani SMOOTH SILK LIP PENCIL 12   \n1582  178.933333                           Galz4ever Alloy Bracelet   \n1555  178.933333                      Vidhya Kangan Brass Jewel Set   \n2247  178.933333        Tia by Ten on Ten Cathy Women's T-Shirt Bra   \n2045  149.111111              S4S Printed Women's Full Coverage Bra   \n1293  149.111111  DEBOCK DEBOCK Earphone For HTC Desire 320 Ster...   \n\n               brand  retail_price  discounted_price  \n1307  Giorgio Armani        1800.0            1710.0  \n1582       Galz4ever         199.0             149.0  \n1555   Vidhya Kangan        1600.0             800.0  \n2247           White         999.0             399.0  \n2045           Black         899.0             266.0  \n1293          DEBOCK         899.0             320.0  "
                },
                "metadata": {},
                "output_type": "display_data"
              }
            ]
          }
        },
        "386b84131d6c446aafaee3753e158507": {
          "model_module": "@jupyter-widgets/base",
          "model_module_version": "1.2.0",
          "model_name": "LayoutModel",
          "state": {
            "_model_module": "@jupyter-widgets/base",
            "_model_module_version": "1.2.0",
            "_model_name": "LayoutModel",
            "_view_count": null,
            "_view_module": "@jupyter-widgets/base",
            "_view_module_version": "1.2.0",
            "_view_name": "LayoutView",
            "align_content": null,
            "align_items": null,
            "align_self": null,
            "border": null,
            "bottom": null,
            "display": null,
            "flex": null,
            "flex_flow": null,
            "grid_area": null,
            "grid_auto_columns": null,
            "grid_auto_flow": null,
            "grid_auto_rows": null,
            "grid_column": null,
            "grid_gap": null,
            "grid_row": null,
            "grid_template_areas": null,
            "grid_template_columns": null,
            "grid_template_rows": null,
            "height": null,
            "justify_content": null,
            "justify_items": null,
            "left": null,
            "margin": null,
            "max_height": null,
            "max_width": null,
            "min_height": null,
            "min_width": null,
            "object_fit": null,
            "object_position": null,
            "order": null,
            "overflow": null,
            "overflow_x": null,
            "overflow_y": null,
            "padding": null,
            "right": null,
            "top": null,
            "visibility": null,
            "width": null
          }
        },
        "44642f40cc134de69fa5ac5972252ff6": {
          "model_module": "@jupyter-widgets/controls",
          "model_module_version": "1.5.0",
          "model_name": "TextModel",
          "state": {
            "_dom_classes": [],
            "_model_module": "@jupyter-widgets/controls",
            "_model_module_version": "1.5.0",
            "_model_name": "TextModel",
            "_view_count": null,
            "_view_module": "@jupyter-widgets/controls",
            "_view_module_version": "1.5.0",
            "_view_name": "TextView",
            "continuous_update": true,
            "description": "Product Name:",
            "description_tooltip": null,
            "disabled": false,
            "layout": "IPY_MODEL_386b84131d6c446aafaee3753e158507",
            "placeholder": "​",
            "style": "IPY_MODEL_5a75109c506b43c2861e7f68b1d1b24c",
            "value": "Pencil"
          }
        },
        "5872c9d2cc06472ab3fd8af16fa9bcf5": {
          "model_module": "@jupyter-widgets/controls",
          "model_module_version": "1.5.0",
          "model_name": "TextModel",
          "state": {
            "_dom_classes": [],
            "_model_module": "@jupyter-widgets/controls",
            "_model_module_version": "1.5.0",
            "_model_name": "TextModel",
            "_view_count": null,
            "_view_module": "@jupyter-widgets/controls",
            "_view_module_version": "1.5.0",
            "_view_name": "TextView",
            "continuous_update": true,
            "description": "What product you Want me Recommed:",
            "description_tooltip": null,
            "disabled": false,
            "layout": "IPY_MODEL_6a916b28092d4083b14e9a6e747dba2e",
            "placeholder": "​",
            "style": "IPY_MODEL_999db81c6a3c45ab947fbeb893294081",
            "value": "Pencil Box"
          }
        },
        "5a75109c506b43c2861e7f68b1d1b24c": {
          "model_module": "@jupyter-widgets/controls",
          "model_module_version": "1.5.0",
          "model_name": "DescriptionStyleModel",
          "state": {
            "_model_module": "@jupyter-widgets/controls",
            "_model_module_version": "1.5.0",
            "_model_name": "DescriptionStyleModel",
            "_view_count": null,
            "_view_module": "@jupyter-widgets/base",
            "_view_module_version": "1.2.0",
            "_view_name": "StyleView",
            "description_width": ""
          }
        },
        "6a916b28092d4083b14e9a6e747dba2e": {
          "model_module": "@jupyter-widgets/base",
          "model_module_version": "1.2.0",
          "model_name": "LayoutModel",
          "state": {
            "_model_module": "@jupyter-widgets/base",
            "_model_module_version": "1.2.0",
            "_model_name": "LayoutModel",
            "_view_count": null,
            "_view_module": "@jupyter-widgets/base",
            "_view_module_version": "1.2.0",
            "_view_name": "LayoutView",
            "align_content": null,
            "align_items": null,
            "align_self": null,
            "border": null,
            "bottom": null,
            "display": null,
            "flex": null,
            "flex_flow": null,
            "grid_area": null,
            "grid_auto_columns": null,
            "grid_auto_flow": null,
            "grid_auto_rows": null,
            "grid_column": null,
            "grid_gap": null,
            "grid_row": null,
            "grid_template_areas": null,
            "grid_template_columns": null,
            "grid_template_rows": null,
            "height": null,
            "justify_content": null,
            "justify_items": null,
            "left": null,
            "margin": null,
            "max_height": null,
            "max_width": null,
            "min_height": null,
            "min_width": null,
            "object_fit": null,
            "object_position": null,
            "order": null,
            "overflow": null,
            "overflow_x": null,
            "overflow_y": null,
            "padding": null,
            "right": null,
            "top": null,
            "visibility": null,
            "width": null
          }
        },
        "999db81c6a3c45ab947fbeb893294081": {
          "model_module": "@jupyter-widgets/controls",
          "model_module_version": "1.5.0",
          "model_name": "DescriptionStyleModel",
          "state": {
            "_model_module": "@jupyter-widgets/controls",
            "_model_module_version": "1.5.0",
            "_model_name": "DescriptionStyleModel",
            "_view_count": null,
            "_view_module": "@jupyter-widgets/base",
            "_view_module_version": "1.2.0",
            "_view_name": "StyleView",
            "description_width": ""
          }
        },
        "a0242eb181cd40ce97026ee0036bcfd0": {
          "model_module": "@jupyter-widgets/output",
          "model_module_version": "1.0.0",
          "model_name": "OutputModel",
          "state": {
            "_dom_classes": [],
            "_model_module": "@jupyter-widgets/output",
            "_model_module_version": "1.0.0",
            "_model_name": "OutputModel",
            "_view_count": null,
            "_view_module": "@jupyter-widgets/output",
            "_view_module_version": "1.0.0",
            "_view_name": "OutputView",
            "layout": "IPY_MODEL_b76601770b284536b15cef0488de36a4",
            "msg_id": "",
            "outputs": [
              {
                "data": {
                  "text/html": "\n  <div id=\"df-3d9240f7-6192-4f09-adbe-a4471b9122ce\">\n    <div class=\"colab-df-container\">\n      <div>\n<style scoped>\n    .dataframe tbody tr th:only-of-type {\n        vertical-align: middle;\n    }\n\n    .dataframe tbody tr th {\n        vertical-align: top;\n    }\n\n    .dataframe thead th {\n        text-align: right;\n    }\n</style>\n<table border=\"1\" class=\"dataframe\">\n  <thead>\n    <tr style=\"text-align: right;\">\n      <th></th>\n      <th>productid</th>\n      <th>product_name</th>\n      <th>product_category_tree</th>\n      <th>brand</th>\n      <th>retail_price</th>\n      <th>discounted_price</th>\n      <th>clean_product_name</th>\n    </tr>\n  </thead>\n  <tbody>\n    <tr>\n      <th>7710</th>\n      <td>8272</td>\n      <td>asa products set of 46 dora and flowers Art pl...</td>\n      <td>[\"Toys &amp; School Supplies &gt;&gt; School Supplies &gt;&gt;...</td>\n      <td>asa products</td>\n      <td>599.0</td>\n      <td>299.0</td>\n      <td>asa products set of 46 dora and flowers Art pl...</td>\n    </tr>\n    <tr>\n      <th>10324</th>\n      <td>39408</td>\n      <td>ab posters Sofia cartoons Art PVC Pencil Box</td>\n      <td>[\"Pens &amp; Stationery &gt;&gt; College Supplies &gt;&gt; Geo...</td>\n      <td>ab posters</td>\n      <td>399.0</td>\n      <td>199.0</td>\n      <td>ab posters Sofia cartoons Art PVC Pencil Box</td>\n    </tr>\n    <tr>\n      <th>1307</th>\n      <td>1342</td>\n      <td>Giorgio Armani SMOOTH SILK LIP PENCIL 12</td>\n      <td>[\"Beauty and Personal Care &gt;&gt; Makeup &gt;&gt; Lips &gt;...</td>\n      <td>Giorgio Armani</td>\n      <td>1800.0</td>\n      <td>1710.0</td>\n      <td>Giorgio Armani SMOOTH SILK LIP PENCIL 12</td>\n    </tr>\n    <tr>\n      <th>10315</th>\n      <td>39307</td>\n      <td>ab posters minions cartoons Art PVC Pencil Box</td>\n      <td>[\"Pens &amp; Stationery &gt;&gt; College Supplies &gt;&gt; Geo...</td>\n      <td>ab posters</td>\n      <td>399.0</td>\n      <td>199.0</td>\n      <td>ab posters minions cartoons Art PVC Pencil Box</td>\n    </tr>\n    <tr>\n      <th>10252</th>\n      <td>37739</td>\n      <td>Menow Dynamic Liquid Eyeliner pencil Pack of 1...</td>\n      <td>[\"Beauty and Personal Care &gt;&gt; Makeup &gt;&gt; Eyes &gt;...</td>\n      <td>Menow</td>\n      <td>1800.0</td>\n      <td>1199.0</td>\n      <td>Menow Dynamic Liquid Eyeliner pencil Pack of 1...</td>\n    </tr>\n  </tbody>\n</table>\n</div>\n      <button class=\"colab-df-convert\" onclick=\"convertToInteractive('df-3d9240f7-6192-4f09-adbe-a4471b9122ce')\"\n              title=\"Convert this dataframe to an interactive table.\"\n              style=\"display:none;\">\n        \n  <svg xmlns=\"http://www.w3.org/2000/svg\" height=\"24px\"viewBox=\"0 0 24 24\"\n       width=\"24px\">\n    <path d=\"M0 0h24v24H0V0z\" fill=\"none\"/>\n    <path d=\"M18.56 5.44l.94 2.06.94-2.06 2.06-.94-2.06-.94-.94-2.06-.94 2.06-2.06.94zm-11 1L8.5 8.5l.94-2.06 2.06-.94-2.06-.94L8.5 2.5l-.94 2.06-2.06.94zm10 10l.94 2.06.94-2.06 2.06-.94-2.06-.94-.94-2.06-.94 2.06-2.06.94z\"/><path d=\"M17.41 7.96l-1.37-1.37c-.4-.4-.92-.59-1.43-.59-.52 0-1.04.2-1.43.59L10.3 9.45l-7.72 7.72c-.78.78-.78 2.05 0 2.83L4 21.41c.39.39.9.59 1.41.59.51 0 1.02-.2 1.41-.59l7.78-7.78 2.81-2.81c.8-.78.8-2.07 0-2.86zM5.41 20L4 18.59l7.72-7.72 1.47 1.35L5.41 20z\"/>\n  </svg>\n      </button>\n      \n  <style>\n    .colab-df-container {\n      display:flex;\n      flex-wrap:wrap;\n      gap: 12px;\n    }\n\n    .colab-df-convert {\n      background-color: #E8F0FE;\n      border: none;\n      border-radius: 50%;\n      cursor: pointer;\n      display: none;\n      fill: #1967D2;\n      height: 32px;\n      padding: 0 0 0 0;\n      width: 32px;\n    }\n\n    .colab-df-convert:hover {\n      background-color: #E2EBFA;\n      box-shadow: 0px 1px 2px rgba(60, 64, 67, 0.3), 0px 1px 3px 1px rgba(60, 64, 67, 0.15);\n      fill: #174EA6;\n    }\n\n    [theme=dark] .colab-df-convert {\n      background-color: #3B4455;\n      fill: #D2E3FC;\n    }\n\n    [theme=dark] .colab-df-convert:hover {\n      background-color: #434B5C;\n      box-shadow: 0px 1px 3px 1px rgba(0, 0, 0, 0.15);\n      filter: drop-shadow(0px 1px 2px rgba(0, 0, 0, 0.3));\n      fill: #FFFFFF;\n    }\n  </style>\n\n      <script>\n        const buttonEl =\n          document.querySelector('#df-3d9240f7-6192-4f09-adbe-a4471b9122ce button.colab-df-convert');\n        buttonEl.style.display =\n          google.colab.kernel.accessAllowed ? 'block' : 'none';\n\n        async function convertToInteractive(key) {\n          const element = document.querySelector('#df-3d9240f7-6192-4f09-adbe-a4471b9122ce');\n          const dataTable =\n            await google.colab.kernel.invokeFunction('convertToInteractive',\n                                                     [key], {});\n          if (!dataTable) return;\n\n          const docLinkHtml = 'Like what you see? Visit the ' +\n            '<a target=\"_blank\" href=https://colab.research.google.com/notebooks/data_table.ipynb>data table notebook</a>'\n            + ' to learn more about interactive tables.';\n          element.innerHTML = '';\n          dataTable['output_type'] = 'display_data';\n          await google.colab.output.renderOutput(dataTable, element);\n          const docLink = document.createElement('div');\n          docLink.innerHTML = docLinkHtml;\n          element.appendChild(docLink);\n        }\n      </script>\n    </div>\n  </div>\n  ",
                  "text/plain": "       productid                                       product_name  \\\n7710        8272  asa products set of 46 dora and flowers Art pl...   \n10324      39408       ab posters Sofia cartoons Art PVC Pencil Box   \n1307        1342           Giorgio Armani SMOOTH SILK LIP PENCIL 12   \n10315      39307     ab posters minions cartoons Art PVC Pencil Box   \n10252      37739  Menow Dynamic Liquid Eyeliner pencil Pack of 1...   \n\n                                   product_category_tree           brand  \\\n7710   [\"Toys & School Supplies >> School Supplies >>...    asa products   \n10324  [\"Pens & Stationery >> College Supplies >> Geo...      ab posters   \n1307   [\"Beauty and Personal Care >> Makeup >> Lips >...  Giorgio Armani   \n10315  [\"Pens & Stationery >> College Supplies >> Geo...      ab posters   \n10252  [\"Beauty and Personal Care >> Makeup >> Eyes >...           Menow   \n\n       retail_price  discounted_price  \\\n7710          599.0             299.0   \n10324         399.0             199.0   \n1307         1800.0            1710.0   \n10315         399.0             199.0   \n10252        1800.0            1199.0   \n\n                                      clean_product_name  \n7710   asa products set of 46 dora and flowers Art pl...  \n10324       ab posters Sofia cartoons Art PVC Pencil Box  \n1307            Giorgio Armani SMOOTH SILK LIP PENCIL 12  \n10315     ab posters minions cartoons Art PVC Pencil Box  \n10252  Menow Dynamic Liquid Eyeliner pencil Pack of 1...  "
                },
                "metadata": {},
                "output_type": "display_data"
              }
            ]
          }
        },
        "b0b03a437bbe43889806dcf0e1e4b791": {
          "model_module": "@jupyter-widgets/base",
          "model_module_version": "1.2.0",
          "model_name": "LayoutModel",
          "state": {
            "_model_module": "@jupyter-widgets/base",
            "_model_module_version": "1.2.0",
            "_model_name": "LayoutModel",
            "_view_count": null,
            "_view_module": "@jupyter-widgets/base",
            "_view_module_version": "1.2.0",
            "_view_name": "LayoutView",
            "align_content": null,
            "align_items": null,
            "align_self": null,
            "border": null,
            "bottom": null,
            "display": null,
            "flex": null,
            "flex_flow": null,
            "grid_area": null,
            "grid_auto_columns": null,
            "grid_auto_flow": null,
            "grid_auto_rows": null,
            "grid_column": null,
            "grid_gap": null,
            "grid_row": null,
            "grid_template_areas": null,
            "grid_template_columns": null,
            "grid_template_rows": null,
            "height": null,
            "justify_content": null,
            "justify_items": null,
            "left": null,
            "margin": null,
            "max_height": null,
            "max_width": null,
            "min_height": null,
            "min_width": null,
            "object_fit": null,
            "object_position": null,
            "order": null,
            "overflow": null,
            "overflow_x": null,
            "overflow_y": null,
            "padding": null,
            "right": null,
            "top": null,
            "visibility": null,
            "width": null
          }
        },
        "b76601770b284536b15cef0488de36a4": {
          "model_module": "@jupyter-widgets/base",
          "model_module_version": "1.2.0",
          "model_name": "LayoutModel",
          "state": {
            "_model_module": "@jupyter-widgets/base",
            "_model_module_version": "1.2.0",
            "_model_name": "LayoutModel",
            "_view_count": null,
            "_view_module": "@jupyter-widgets/base",
            "_view_module_version": "1.2.0",
            "_view_name": "LayoutView",
            "align_content": null,
            "align_items": null,
            "align_self": null,
            "border": null,
            "bottom": null,
            "display": null,
            "flex": null,
            "flex_flow": null,
            "grid_area": null,
            "grid_auto_columns": null,
            "grid_auto_flow": null,
            "grid_auto_rows": null,
            "grid_column": null,
            "grid_gap": null,
            "grid_row": null,
            "grid_template_areas": null,
            "grid_template_columns": null,
            "grid_template_rows": null,
            "height": null,
            "justify_content": null,
            "justify_items": null,
            "left": null,
            "margin": null,
            "max_height": null,
            "max_width": null,
            "min_height": null,
            "min_width": null,
            "object_fit": null,
            "object_position": null,
            "order": null,
            "overflow": null,
            "overflow_x": null,
            "overflow_y": null,
            "padding": null,
            "right": null,
            "top": null,
            "visibility": null,
            "width": null
          }
        }
      }
    }
  },
  "nbformat": 4,
  "nbformat_minor": 0
}
